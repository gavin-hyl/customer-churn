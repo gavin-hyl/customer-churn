{
  "cells": [
    {
      "cell_type": "code",
      "execution_count": 1,
      "metadata": {
        "id": "GSgFGC6kHhiv"
      },
      "outputs": [],
      "source": [
        "import pandas as pd\n",
        "from utils import *"
      ]
    },
    {
      "cell_type": "code",
      "execution_count": 5,
      "metadata": {
        "id": "-Hn-narHHhiw"
      },
      "outputs": [],
      "source": [
        "raw = numerize_csv('train.csv', expand_classes=True)\n",
        "#raw = combine_related_columns(raw)\n",
        "\n",
        "from sklearn.model_selection import train_test_split\n",
        "from sklearn.tree import DecisionTreeClassifier\n",
        "from sklearn.ensemble import GradientBoostingClassifier\n",
        "from sklearn.metrics import roc_auc_score\n",
        "from sklearn.metrics import accuracy_score\n",
        "\n",
        "Y = raw['Discontinued']\n",
        "X = raw.drop('Discontinued', axis=1)\n",
        "X_train, X_test, y_train, y_test = train_test_split(X, Y, random_state=0, train_size = .8)"
      ]
    },
    {
      "cell_type": "code",
      "execution_count": 6,
      "metadata": {
        "colab": {
          "base_uri": "https://localhost:8080/"
        },
        "id": "OC67eICdHhiw",
        "outputId": "794780fb-fe7a-4541-8b52-7cfef361dde8"
      },
      "outputs": [
        {
          "output_type": "stream",
          "name": "stdout",
          "text": [
            "Depth: 1\n",
            "ROC AUC Testing Accuracy with Probabilities: 0.8638486147375175\n",
            "ROC AUC Training Accuracy with Probabilities: 0.8450486163603388\n",
            "Testing Accuracy: 0.7960710944808232\n",
            "Training Accuracy: 0.802526906878802\n",
            "Depth: 2\n",
            "ROC AUC Testing Accuracy with Probabilities: 0.8643186861170769\n",
            "ROC AUC Training Accuracy with Probabilities: 0.8603106748293575\n",
            "Testing Accuracy: 0.8072965388213283\n",
            "Training Accuracy: 0.817735142723444\n",
            "Depth: 3\n",
            "ROC AUC Testing Accuracy with Probabilities: 0.8605402924690556\n",
            "ROC AUC Training Accuracy with Probabilities: 0.8832350450922843\n",
            "Testing Accuracy: 0.8072965388213283\n",
            "Training Accuracy: 0.8331773514272345\n",
            "Depth: 4\n",
            "ROC AUC Testing Accuracy with Probabilities: 0.855304900327045\n",
            "ROC AUC Training Accuracy with Probabilities: 0.9136992924608606\n",
            "Testing Accuracy: 0.8016838166510758\n",
            "Training Accuracy: 0.8547028544688816\n",
            "Depth: 5\n",
            "ROC AUC Testing Accuracy with Probabilities: 0.8496217150699092\n",
            "ROC AUC Training Accuracy with Probabilities: 0.9462247838453174\n",
            "Testing Accuracy: 0.7876520112254444\n",
            "Training Accuracy: 0.8851193261581657\n"
          ]
        }
      ],
      "source": [
        "max_depths = [1, 2, 3, 4, 5]\n",
        "for depth in max_depths:\n",
        "    print(\"Depth: \" + str(depth))\n",
        "    clf = GradientBoostingClassifier(max_depth=depth, random_state=0)\n",
        "    clf.fit(X_train, y_train)\n",
        "    y_test_preds = clf.predict(X_test)\n",
        "    y_train_preds = clf.predict(X_train)\n",
        "    y_test_prob_preds = clf.predict_proba(X_test)\n",
        "    y_train_prob_preds = clf.predict_proba(X_train)\n",
        "\n",
        "    prob_roc_auc_testing_accuracy = roc_auc_score(y_test, y_test_prob_preds[:, 1])\n",
        "    prob_roc_auc_training_accuracy = roc_auc_score(y_train, y_train_prob_preds[:, 1])\n",
        "    testing_accuracy = accuracy_score(y_test, y_test_preds)\n",
        "    training_accuracy = accuracy_score(y_train, y_train_preds)\n",
        "\n",
        "    print(f'ROC AUC Testing Accuracy with Probabilities: {prob_roc_auc_testing_accuracy}')\n",
        "    print(f'ROC AUC Training Accuracy with Probabilities: {prob_roc_auc_training_accuracy}')\n",
        "    print(f'Testing Accuracy: {testing_accuracy}')\n",
        "    print(f'Training Accuracy: {training_accuracy}')\n",
        "\n",
        "# Depth 1 seems to be best, model is very prone to overfitting, maybe RandomForest is the way to go"
      ]
    },
    {
      "cell_type": "code",
      "execution_count": 7,
      "metadata": {
        "colab": {
          "base_uri": "https://localhost:8080/"
        },
        "id": "mRevnsHdHhix",
        "outputId": "217f2da9-0bdc-424a-94c3-3e069ceb8d64"
      },
      "outputs": [
        {
          "output_type": "stream",
          "name": "stdout",
          "text": [
            "Number of Estimators: 50\n",
            "ROC AUC Testing Accuracy with Probabilities: 0.8630644198294376\n",
            "ROC AUC Training Accuracy with Probabilities: 0.8513034257878381\n",
            "Testing Accuracy: 0.7998129092609916\n",
            "Training Accuracy: 0.8088441740758072\n",
            "Number of Estimators: 100\n",
            "ROC AUC Testing Accuracy with Probabilities: 0.8643186861170769\n",
            "ROC AUC Training Accuracy with Probabilities: 0.8603106748293575\n",
            "Testing Accuracy: 0.8072965388213283\n",
            "Training Accuracy: 0.817735142723444\n",
            "Number of Estimators: 120\n",
            "ROC AUC Testing Accuracy with Probabilities: 0.8630755589616546\n",
            "ROC AUC Training Accuracy with Probabilities: 0.8628281760380987\n",
            "Testing Accuracy: 0.8082319925163705\n",
            "Training Accuracy: 0.8191389798783341\n",
            "Number of Estimators: 150\n",
            "ROC AUC Testing Accuracy with Probabilities: 0.8619081779053085\n",
            "ROC AUC Training Accuracy with Probabilities: 0.8667960246605878\n",
            "Testing Accuracy: 0.8101028999064547\n",
            "Training Accuracy: 0.8226485727655592\n",
            "Number of Estimators: 170\n",
            "ROC AUC Testing Accuracy with Probabilities: 0.8614136004348717\n",
            "ROC AUC Training Accuracy with Probabilities: 0.8694141124208643\n",
            "Testing Accuracy: 0.8082319925163705\n",
            "Training Accuracy: 0.8245203556387459\n",
            "Number of Estimators: 200\n",
            "ROC AUC Testing Accuracy with Probabilities: 0.8609992247163977\n",
            "ROC AUC Training Accuracy with Probabilities: 0.8726957309308327\n",
            "Testing Accuracy: 0.8110383536014967\n",
            "Training Accuracy: 0.8291998128217127\n"
          ]
        }
      ],
      "source": [
        "# Test with different n_estimators\n",
        "num_estimators = [50, 100, 120, 150, 170, 200]\n",
        "for num in num_estimators:\n",
        "    print(\"Number of Estimators: \" + str(num))\n",
        "    clf = GradientBoostingClassifier(n_estimators=num, max_depth=2, random_state=0)\n",
        "    clf.fit(X_train, y_train)\n",
        "    y_test_preds = clf.predict(X_test)\n",
        "    y_train_preds = clf.predict(X_train)\n",
        "    y_test_prob_preds = clf.predict_proba(X_test)\n",
        "    y_train_prob_preds = clf.predict_proba(X_train)\n",
        "\n",
        "    prob_roc_auc_testing_accuracy = roc_auc_score(y_test, y_test_prob_preds[:, 1])\n",
        "    prob_roc_auc_training_accuracy = roc_auc_score(y_train, y_train_prob_preds[:, 1])\n",
        "    testing_accuracy = accuracy_score(y_test, y_test_preds)\n",
        "    training_accuracy = accuracy_score(y_train, y_train_preds)\n",
        "\n",
        "    print(f'ROC AUC Testing Accuracy with Probabilities: {prob_roc_auc_testing_accuracy}')\n",
        "    print(f'ROC AUC Training Accuracy with Probabilities: {prob_roc_auc_training_accuracy}')\n",
        "    print(f'Testing Accuracy: {testing_accuracy}')\n",
        "    print(f'Training Accuracy: {training_accuracy}')\n",
        "\n",
        "# 200 seems to be best, after that model is overfitting on training data"
      ]
    },
    {
      "cell_type": "code",
      "execution_count": null,
      "metadata": {
        "id": "T8tsOeMVHhix"
      },
      "outputs": [],
      "source": [
        "# Generate submission using test.csv\n",
        "\n",
        "raw_test = numerize_csv_test('test.csv', expand_classes=True)\n",
        "#_test = combine_related_columns_test(raw_test)\n",
        "\n",
        "clf = GradientBoostingClassifier(max_depth=2, n_estimators=100)\n",
        "clf.fit(X_train, y_train)\n",
        "y_test_prob_preds = clf.predict_proba(raw_test)\n",
        "write_submission(y_test_prob_preds[:, 1])"
      ]
    }
  ],
  "metadata": {
    "kernelspec": {
      "display_name": "Python 3",
      "name": "python3"
    },
    "language_info": {
      "codemirror_mode": {
        "name": "ipython",
        "version": 3
      },
      "file_extension": ".py",
      "mimetype": "text/x-python",
      "name": "python",
      "nbconvert_exporter": "python",
      "pygments_lexer": "ipython3",
      "version": "3.10.11"
    },
    "colab": {
      "provenance": []
    }
  },
  "nbformat": 4,
  "nbformat_minor": 0
}