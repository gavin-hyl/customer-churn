{
 "cells": [
  {
   "cell_type": "code",
   "execution_count": 21,
   "metadata": {},
   "outputs": [],
   "source": [
    "from utils import *"
   ]
  },
  {
   "cell_type": "code",
   "execution_count": 22,
   "metadata": {},
   "outputs": [],
   "source": [
    "def random_forest_predict():\n",
    "    from sklearn.ensemble import RandomForestClassifier\n",
    "\n",
    "    combined = combine_related_columns(numerize_csv('train.csv', train=True, expand_classes=False))\n",
    "    Y = combined['Discontinued']\n",
    "    X = combined.drop('Discontinued', axis=1)\n",
    "\n",
    "    # results of extensive testing\n",
    "    model = RandomForestClassifier(n_estimators=1000, random_state=42, criterion='entropy')\n",
    "    model.set_params(min_samples_leaf=7, max_features=1)\n",
    "    model.fit(X, Y)\n",
    "\n",
    "    X_test = combine_related_columns(numerize_csv(path='test.csv', train=False))\n",
    "    return model.predict_proba(X_test)[:, 1]\n",
    "\n",
    "# write_submission(random_forest_predict())"
   ]
  },
  {
   "cell_type": "code",
   "execution_count": 23,
   "metadata": {},
   "outputs": [],
   "source": [
    "def random_forest_test():\n",
    "    from sklearn.ensemble import RandomForestClassifier\n",
    "    from sklearn.metrics import roc_auc_score\n",
    "    from sklearn.model_selection import train_test_split\n",
    "\n",
    "    combined = numerize_csv('train.csv', train=True, expand_classes=False)\n",
    "    combined.drop('gender', axis=1, inplace=True)\n",
    "    Y = combined['Discontinued']\n",
    "    X = combined.drop('Discontinued', axis=1)\n",
    "    X_train, X_test, y_train, y_test = train_test_split(X, Y, random_state=0, train_size = 0.8)\n",
    "\n",
    "\n",
    "    # results of extensive testing\n",
    "    model = RandomForestClassifier(n_estimators=1000, random_state=42, criterion='entropy')\n",
    "    model.set_params(min_samples_leaf=7, max_features=1)\n",
    "    model.fit(X_train, y_train)\n",
    "    y_test_preds = model.predict_proba(X_test)[:, 1]\n",
    "    y_train_preds = model.predict_proba(X_train)[:, 1]\n",
    "    # Calculate accuracy on the training set\n",
    "    # testing_accuracy = accuracy_score(y_test, y_test_preds)\n",
    "    # training_accuracy = accuracy_score(y_train, y_train_preds)\n",
    "    testing_roc = roc_auc_score(y_test, y_test_preds)\n",
    "    training_roc = roc_auc_score(y_train, y_train_preds)\n",
    "    # print(testing_roc)\n",
    "    # print(training_roc)\n",
    "    return model\n",
    "\n",
    "model = random_forest_test()"
   ]
  },
  {
   "cell_type": "code",
   "execution_count": 29,
   "metadata": {},
   "outputs": [
    {
     "data": {
      "text/plain": [
       "gender              0.009610\n",
       "SeniorCitizen       0.152664\n",
       "Partner             0.150313\n",
       "Dependents          0.165446\n",
       "tenure              0.344429\n",
       "PhoneService        0.015895\n",
       "MultipleLines       0.042595\n",
       "InternetService     0.315576\n",
       "OnlineSecurity      0.166174\n",
       "OnlineBackup        0.079801\n",
       "DeviceProtection    0.064102\n",
       "TechSupport         0.164398\n",
       "StreamingTV         0.079656\n",
       "StreamingMovies     0.059381\n",
       "Contract            0.403152\n",
       "PaperlessBilling    0.189888\n",
       "PaymentMethod       0.166428\n",
       "MonthlyCharges      0.197165\n",
       "TotalCharges        0.187376\n",
       "Discontinued        1.000000\n",
       "Name: Discontinued, dtype: float64"
      ]
     },
     "execution_count": 29,
     "metadata": {},
     "output_type": "execute_result"
    }
   ],
   "source": [
    "s = numerize_csv('train.csv', train=True, expand_classes=False).corr().abs()['Discontinued']\n",
    "s"
   ]
  },
  {
   "cell_type": "code",
   "execution_count": 31,
   "metadata": {},
   "outputs": [
    {
     "name": "stdout",
     "output_type": "stream",
     "text": [
      "[0.02403968590976204, 0.020595615027308733, 0.022544488409292157, 0.16259160012279403, 0.007129687611155309, 0.016476672392128536, 0.09589052137493745, 0.03054153605552118, 0.017841271059876214, 0.014810322655200228, 0.033132793573917275, 0.021043025201403314, 0.018339630283276846, 0.14075353483865663, 0.037416117985312254, 0.05876638366766373, 0.13647821440139632, 0.14160889943039787]\n",
      "tenure\n",
      "Dependents\n",
      "MonthlyCharges\n",
      "StreamingMovies\n",
      "PaymentMethod\n",
      "MultipleLines\n",
      "PaperlessBilling\n",
      "Contract\n",
      "DeviceProtection\n",
      "InternetService\n"
     ]
    }
   ],
   "source": [
    "importances = list(model.feature_importances_)\n",
    "print(importances)\n",
    "sorted_importances = sorted(importances)\n",
    "for i in range(10):\n",
    "    importance = sorted_importances[-i]\n",
    "    print(s.index[importances.index(importance)])"
   ]
  },
  {
   "cell_type": "code",
   "execution_count": null,
   "metadata": {},
   "outputs": [],
   "source": []
  }
 ],
 "metadata": {
  "kernelspec": {
   "display_name": "Python 3",
   "language": "python",
   "name": "python3"
  },
  "language_info": {
   "codemirror_mode": {
    "name": "ipython",
    "version": 3
   },
   "file_extension": ".py",
   "mimetype": "text/x-python",
   "name": "python",
   "nbconvert_exporter": "python",
   "pygments_lexer": "ipython3",
   "version": "3.11.2"
  }
 },
 "nbformat": 4,
 "nbformat_minor": 2
}
