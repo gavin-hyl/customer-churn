{
 "cells": [
  {
   "cell_type": "code",
   "execution_count": 4,
   "metadata": {},
   "outputs": [],
   "source": [
    "from utils import *"
   ]
  },
  {
   "cell_type": "code",
   "execution_count": 5,
   "metadata": {},
   "outputs": [],
   "source": [
    "def random_forest_predict():\n",
    "    from sklearn.ensemble import RandomForestClassifier\n",
    "\n",
    "    combined = combine_related_columns(numerize_csv('train.csv'))\n",
    "    Y = combined['Discontinued']\n",
    "    X = combined.drop('Discontinued', axis=1)\n",
    "\n",
    "    # results of extensive testing\n",
    "    model = RandomForestClassifier(n_estimators=200, random_state=42, criterion='entropy')\n",
    "    model.set_params(min_samples_leaf=7, max_features=1)\n",
    "    model.fit(X, Y)\n",
    "\n",
    "    X_test = combine_related_columns(numerize_csv(path='test.csv', train=False))\n",
    "    return model.predict_proba(X_test)[:, 1]\n",
    "\n",
    "write_submission([0.5 for _ in range(1700)])"
   ]
  },
  {
   "cell_type": "code",
   "execution_count": 6,
   "metadata": {},
   "outputs": [
    {
     "name": "stdout",
     "output_type": "stream",
     "text": [
      "0.8592374217259907\n",
      "0.8988935447244014\n"
     ]
    }
   ],
   "source": [
    "def random_forest_test():\n",
    "    from sklearn.ensemble import RandomForestClassifier\n",
    "    from sklearn.metrics import roc_auc_score\n",
    "    from sklearn.model_selection import train_test_split\n",
    "\n",
    "    combined = numerize_csv('train.csv')\n",
    "    Y = combined['Discontinued']\n",
    "    X = combined.drop('Discontinued', axis=1)\n",
    "    X_train, X_test, y_train, y_test = train_test_split(X, Y, random_state=0, train_size = .75)\n",
    "\n",
    "\n",
    "    # results of extensive testing\n",
    "    model = RandomForestClassifier(n_estimators=400, random_state=42, criterion='entropy')\n",
    "    model.set_params(min_samples_leaf=7, max_features=1)\n",
    "    model.fit(X_train, y_train)\n",
    "    y_test_preds = model.predict_proba(X_test)[:, 1]\n",
    "    y_train_preds = model.predict_proba(X_train)[:, 1]\n",
    "    # Calculate accuracy on the training set\n",
    "    # testing_accuracy = accuracy_score(y_test, y_test_preds)\n",
    "    # training_accuracy = accuracy_score(y_train, y_train_preds)\n",
    "    testing_roc = roc_auc_score(y_test, y_test_preds)\n",
    "    training_roc = roc_auc_score(y_train, y_train_preds)\n",
    "    print(testing_roc)\n",
    "    print(training_roc)\n",
    "\n",
    "random_forest_test()"
   ]
  }
 ],
 "metadata": {
  "kernelspec": {
   "display_name": "Python 3",
   "language": "python",
   "name": "python3"
  },
  "language_info": {
   "codemirror_mode": {
    "name": "ipython",
    "version": 3
   },
   "file_extension": ".py",
   "mimetype": "text/x-python",
   "name": "python",
   "nbconvert_exporter": "python",
   "pygments_lexer": "ipython3",
   "version": "3.11.2"
  }
 },
 "nbformat": 4,
 "nbformat_minor": 2
}
