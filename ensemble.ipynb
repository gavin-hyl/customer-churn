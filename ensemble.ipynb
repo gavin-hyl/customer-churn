{
 "cells": [
  {
   "cell_type": "code",
   "execution_count": 4,
   "metadata": {},
   "outputs": [],
   "source": [
    "import pandas as pd\n",
    "from utils import *\n",
    "\n",
    "def ensemble(preds: list[str], weights: list[float]):\n",
    "    combined_pred = pd.Series([0 for _ in range(1700)])\n",
    "    for pred, weight in zip(preds, weights):\n",
    "        df = pd.read_csv(pred)\n",
    "        combined_pred += df['TARGET'] * weight\n",
    "\n",
    "    combined_pred /= sum(weights)\n",
    "    return combined_pred\n",
    "\n",
    "write_submission(ensemble(preds=['nn_submission.csv', 'gluon_submission.csv', 'ada_submission.csv'], weights=[0.2, 0.5, 0.4]))\n"
   ]
  }
 ],
 "metadata": {
  "kernelspec": {
   "display_name": "Python 3",
   "language": "python",
   "name": "python3"
  },
  "language_info": {
   "codemirror_mode": {
    "name": "ipython",
    "version": 3
   },
   "file_extension": ".py",
   "mimetype": "text/x-python",
   "name": "python",
   "nbconvert_exporter": "python",
   "pygments_lexer": "ipython3",
   "version": "3.10.13"
  }
 },
 "nbformat": 4,
 "nbformat_minor": 2
}
