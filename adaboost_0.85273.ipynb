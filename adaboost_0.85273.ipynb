{
  "cells": [
    {
      "cell_type": "code",
      "execution_count": 7,
      "metadata": {
        "id": "KbyIb4APX0Nc"
      },
      "outputs": [],
      "source": [
        "import pandas as pd\n",
        "from utils import *"
      ]
    },
    {
      "cell_type": "code",
      "execution_count": 8,
      "metadata": {
        "id": "kRuzctV2X0Nd"
      },
      "outputs": [],
      "source": [
        "raw = numerize_csv('train.csv', expand_classes=True)\n",
        "# combined=combine_related_columns(raw)\n",
        "\n",
        "# Data\n",
        "from sklearn.model_selection import train_test_split\n",
        "from sklearn.tree import DecisionTreeClassifier\n",
        "from sklearn.ensemble import AdaBoostClassifier\n",
        "from sklearn.metrics import roc_auc_score\n",
        "from sklearn.metrics import accuracy_score\n",
        "\n",
        "#Y = # combined['Discontinued']\n",
        "Y = raw['Discontinued']\n",
        "X = raw.drop('Discontinued', axis=1)\n",
        "X_train, X_test, y_train, y_test = train_test_split(X, Y, random_state=0, train_size = .75)"
      ]
    },
    {
      "cell_type": "code",
      "execution_count": 9,
      "metadata": {
        "colab": {
          "base_uri": "https://localhost:8080/"
        },
        "id": "aHuI7amQX0Ne",
        "outputId": "a01263dc-408d-4105-ffe3-d418dd200c95"
      },
      "outputs": [
        {
          "name": "stdout",
          "output_type": "stream",
          "text": [
            "Depth: 1\n"
          ]
        },
        {
          "name": "stderr",
          "output_type": "stream",
          "text": [
            "d:\\Caltech\\CS 155\\project1\\.conda\\lib\\site-packages\\sklearn\\ensemble\\_weight_boosting.py:519: FutureWarning: The SAMME.R algorithm (the default) is deprecated and will be removed in 1.6. Use the SAMME algorithm to circumvent this warning.\n",
            "  warnings.warn(\n"
          ]
        },
        {
          "name": "stdout",
          "output_type": "stream",
          "text": [
            "ROC AUC Testing Accuracy: 0.7177563337716968\n",
            "ROC AUC Training Accuracy: 0.7302405619731263\n",
            "ROC AUC Testing Accuracy with Probabilities: 0.8539712538066497\n",
            "ROC AUC Training Accuracy with Probabilities: 0.8615650568585256\n",
            "Testing Accuracy: 0.8046407185628742\n",
            "Training Accuracy: 0.8128275517843774\n",
            "Depth: 2\n"
          ]
        },
        {
          "name": "stderr",
          "output_type": "stream",
          "text": [
            "d:\\Caltech\\CS 155\\project1\\.conda\\lib\\site-packages\\sklearn\\ensemble\\_weight_boosting.py:519: FutureWarning: The SAMME.R algorithm (the default) is deprecated and will be removed in 1.6. Use the SAMME algorithm to circumvent this warning.\n",
            "  warnings.warn(\n"
          ]
        },
        {
          "name": "stdout",
          "output_type": "stream",
          "text": [
            "ROC AUC Testing Accuracy: 0.6782034645230401\n",
            "ROC AUC Training Accuracy: 0.7791634082600848\n",
            "ROC AUC Testing Accuracy with Probabilities: 0.8068950801682618\n",
            "ROC AUC Training Accuracy with Probabilities: 0.9178436556012571\n",
            "Testing Accuracy: 0.7694610778443114\n",
            "Training Accuracy: 0.8485150985774894\n",
            "Depth: 3\n"
          ]
        },
        {
          "name": "stderr",
          "output_type": "stream",
          "text": [
            "d:\\Caltech\\CS 155\\project1\\.conda\\lib\\site-packages\\sklearn\\ensemble\\_weight_boosting.py:519: FutureWarning: The SAMME.R algorithm (the default) is deprecated and will be removed in 1.6. Use the SAMME algorithm to circumvent this warning.\n",
            "  warnings.warn(\n"
          ]
        },
        {
          "name": "stdout",
          "output_type": "stream",
          "text": [
            "ROC AUC Testing Accuracy: 0.6665519954247626\n",
            "ROC AUC Training Accuracy: 0.8804348454695994\n",
            "ROC AUC Testing Accuracy with Probabilities: 0.7716140775642086\n",
            "ROC AUC Training Accuracy with Probabilities: 0.977330004350254\n",
            "Testing Accuracy: 0.7522455089820359\n",
            "Training Accuracy: 0.9163963064636885\n",
            "Depth: 4\n"
          ]
        },
        {
          "name": "stderr",
          "output_type": "stream",
          "text": [
            "d:\\Caltech\\CS 155\\project1\\.conda\\lib\\site-packages\\sklearn\\ensemble\\_weight_boosting.py:519: FutureWarning: The SAMME.R algorithm (the default) is deprecated and will be removed in 1.6. Use the SAMME algorithm to circumvent this warning.\n",
            "  warnings.warn(\n"
          ]
        },
        {
          "name": "stdout",
          "output_type": "stream",
          "text": [
            "ROC AUC Testing Accuracy: 0.6502860974908771\n",
            "ROC AUC Training Accuracy: 0.9903780351374571\n",
            "ROC AUC Testing Accuracy with Probabilities: 0.7554120471574596\n",
            "ROC AUC Training Accuracy with Probabilities: 0.9998062626949341\n",
            "Testing Accuracy: 0.7432634730538922\n",
            "Training Accuracy: 0.9930122285999501\n",
            "Depth: 5\n"
          ]
        },
        {
          "name": "stderr",
          "output_type": "stream",
          "text": [
            "d:\\Caltech\\CS 155\\project1\\.conda\\lib\\site-packages\\sklearn\\ensemble\\_weight_boosting.py:519: FutureWarning: The SAMME.R algorithm (the default) is deprecated and will be removed in 1.6. Use the SAMME algorithm to circumvent this warning.\n",
            "  warnings.warn(\n"
          ]
        },
        {
          "name": "stdout",
          "output_type": "stream",
          "text": [
            "ROC AUC Testing Accuracy: 0.6695044170201154\n",
            "ROC AUC Training Accuracy: 0.9972558701118278\n",
            "ROC AUC Testing Accuracy with Probabilities: 0.795811161140674\n",
            "ROC AUC Training Accuracy with Probabilities: 0.9999868271484118\n",
            "Testing Accuracy: 0.7552395209580839\n",
            "Training Accuracy: 0.9977539306214125\n"
          ]
        }
      ],
      "source": [
        "# Test with different max_depths\n",
        "max_depths = [1, 2, 3, 4, 5]\n",
        "for depth in max_depths:\n",
        "    print(\"Depth: \" + str(depth))\n",
        "    base_estimator = DecisionTreeClassifier(criterion=\"gini\", max_depth=depth)\n",
        "    clf = AdaBoostClassifier(estimator=base_estimator, n_estimators=100, random_state=0)\n",
        "    clf.fit(X_train, y_train)\n",
        "    y_test_preds = clf.predict(X_test)\n",
        "    y_train_preds = clf.predict(X_train)\n",
        "    y_test_prob_preds = clf.predict_proba(X_test)\n",
        "    y_train_prob_preds = clf.predict_proba(X_train)\n",
        "\n",
        "    roc_auc_testing_accuracy = roc_auc_score(y_test, y_test_preds)\n",
        "    roc_auc_training_accuracy = roc_auc_score(y_train, y_train_preds)\n",
        "    prob_roc_auc_testing_accuracy = roc_auc_score(y_test, y_test_prob_preds[:, 1])\n",
        "    prob_roc_auc_training_accuracy = roc_auc_score(y_train, y_train_prob_preds[:, 1])\n",
        "    testing_accuracy = accuracy_score(y_test, y_test_preds)\n",
        "    training_accuracy = accuracy_score(y_train, y_train_preds)\n",
        "\n",
        "    print(f'ROC AUC Testing Accuracy: {roc_auc_testing_accuracy}')\n",
        "    print(f'ROC AUC Training Accuracy: {roc_auc_training_accuracy}')\n",
        "    print(f'ROC AUC Testing Accuracy with Probabilities: {prob_roc_auc_testing_accuracy}')\n",
        "    print(f'ROC AUC Training Accuracy with Probabilities: {prob_roc_auc_training_accuracy}')\n",
        "    print(f'Testing Accuracy: {testing_accuracy}')\n",
        "    print(f'Training Accuracy: {training_accuracy}')"
      ]
    },
    {
      "cell_type": "code",
      "execution_count": 10,
      "metadata": {
        "colab": {
          "base_uri": "https://localhost:8080/"
        },
        "id": "Y89xUBhRX0Nf",
        "outputId": "33f0e918-406e-4262-fa48-9ce35fc481cf"
      },
      "outputs": [
        {
          "name": "stdout",
          "output_type": "stream",
          "text": [
            "Number of Estimators: 10\n",
            "ROC AUC Testing Accuracy: 0.7403857598639041\n",
            "ROC AUC Training Accuracy: 0.7267985922398409\n",
            "ROC AUC Testing Accuracy with Probabilities: 0.8525937473690934\n",
            "ROC AUC Training Accuracy with Probabilities: 0.8377625172612547\n",
            "Testing Accuracy: 0.7956586826347305\n",
            "Training Accuracy: 0.7888694784127777\n",
            "Number of Estimators: 25\n",
            "ROC AUC Testing Accuracy: 0.7182629193846655\n",
            "ROC AUC Training Accuracy: 0.7228533231891666\n",
            "ROC AUC Testing Accuracy with Probabilities: 0.8570238312968301\n",
            "ROC AUC Training Accuracy with Probabilities: 0.8504722306649848\n",
            "Testing Accuracy: 0.8053892215568862\n",
            "Training Accuracy: 0.8095832293486399\n",
            "Number of Estimators: 30\n"
          ]
        },
        {
          "name": "stderr",
          "output_type": "stream",
          "text": [
            "d:\\Caltech\\CS 155\\project1\\.conda\\lib\\site-packages\\sklearn\\ensemble\\_weight_boosting.py:519: FutureWarning: The SAMME.R algorithm (the default) is deprecated and will be removed in 1.6. Use the SAMME algorithm to circumvent this warning.\n",
            "  warnings.warn(\n",
            "d:\\Caltech\\CS 155\\project1\\.conda\\lib\\site-packages\\sklearn\\ensemble\\_weight_boosting.py:519: FutureWarning: The SAMME.R algorithm (the default) is deprecated and will be removed in 1.6. Use the SAMME algorithm to circumvent this warning.\n",
            "  warnings.warn(\n",
            "d:\\Caltech\\CS 155\\project1\\.conda\\lib\\site-packages\\sklearn\\ensemble\\_weight_boosting.py:519: FutureWarning: The SAMME.R algorithm (the default) is deprecated and will be removed in 1.6. Use the SAMME algorithm to circumvent this warning.\n",
            "  warnings.warn(\n"
          ]
        },
        {
          "name": "stdout",
          "output_type": "stream",
          "text": [
            "ROC AUC Testing Accuracy: 0.7148910042588028\n",
            "ROC AUC Training Accuracy: 0.722581833930824\n",
            "ROC AUC Testing Accuracy with Probabilities: 0.8570441527827372\n",
            "ROC AUC Training Accuracy with Probabilities: 0.8516184293976923\n",
            "Testing Accuracy: 0.8031437125748503\n",
            "Training Accuracy: 0.8100823558772149\n",
            "Number of Estimators: 35\n",
            "ROC AUC Testing Accuracy: 0.7148910042588028\n",
            "ROC AUC Training Accuracy: 0.7228868978962635\n",
            "ROC AUC Testing Accuracy with Probabilities: 0.8546665389316124\n",
            "ROC AUC Training Accuracy with Probabilities: 0.8532541120180746\n",
            "Testing Accuracy: 0.8031437125748503\n",
            "Training Accuracy: 0.8100823558772149\n",
            "Number of Estimators: 40\n"
          ]
        },
        {
          "name": "stderr",
          "output_type": "stream",
          "text": [
            "d:\\Caltech\\CS 155\\project1\\.conda\\lib\\site-packages\\sklearn\\ensemble\\_weight_boosting.py:519: FutureWarning: The SAMME.R algorithm (the default) is deprecated and will be removed in 1.6. Use the SAMME algorithm to circumvent this warning.\n",
            "  warnings.warn(\n",
            "d:\\Caltech\\CS 155\\project1\\.conda\\lib\\site-packages\\sklearn\\ensemble\\_weight_boosting.py:519: FutureWarning: The SAMME.R algorithm (the default) is deprecated and will be removed in 1.6. Use the SAMME algorithm to circumvent this warning.\n",
            "  warnings.warn(\n"
          ]
        },
        {
          "name": "stdout",
          "output_type": "stream",
          "text": [
            "ROC AUC Testing Accuracy: 0.7207958474495084\n",
            "ROC AUC Training Accuracy: 0.727664305620438\n",
            "ROC AUC Testing Accuracy with Probabilities: 0.8561630712151957\n",
            "ROC AUC Training Accuracy with Probabilities: 0.8549277067479056\n",
            "Testing Accuracy: 0.8091317365269461\n",
            "Training Accuracy: 0.8130771150486649\n",
            "Number of Estimators: 45\n",
            "ROC AUC Testing Accuracy: 0.7135454315848146\n",
            "ROC AUC Training Accuracy: 0.7215308974053338\n",
            "ROC AUC Testing Accuracy with Probabilities: 0.8538740009812374\n",
            "ROC AUC Training Accuracy with Probabilities: 0.8554252228621586\n",
            "Testing Accuracy: 0.8038922155688623\n",
            "Training Accuracy: 0.8103319191415024\n",
            "Number of Estimators: 50\n"
          ]
        },
        {
          "name": "stderr",
          "output_type": "stream",
          "text": [
            "d:\\Caltech\\CS 155\\project1\\.conda\\lib\\site-packages\\sklearn\\ensemble\\_weight_boosting.py:519: FutureWarning: The SAMME.R algorithm (the default) is deprecated and will be removed in 1.6. Use the SAMME algorithm to circumvent this warning.\n",
            "  warnings.warn(\n",
            "d:\\Caltech\\CS 155\\project1\\.conda\\lib\\site-packages\\sklearn\\ensemble\\_weight_boosting.py:519: FutureWarning: The SAMME.R algorithm (the default) is deprecated and will be removed in 1.6. Use the SAMME algorithm to circumvent this warning.\n",
            "  warnings.warn(\n"
          ]
        },
        {
          "name": "stdout",
          "output_type": "stream",
          "text": [
            "ROC AUC Testing Accuracy: 0.7135454315848146\n",
            "ROC AUC Training Accuracy: 0.7230211967246508\n",
            "ROC AUC Testing Accuracy with Probabilities: 0.8539117408836363\n",
            "ROC AUC Training Accuracy with Probabilities: 0.8567431505991077\n",
            "Testing Accuracy: 0.8038922155688623\n",
            "Training Accuracy: 0.8120788619915148\n",
            "Number of Estimators: 100\n"
          ]
        },
        {
          "name": "stderr",
          "output_type": "stream",
          "text": [
            "d:\\Caltech\\CS 155\\project1\\.conda\\lib\\site-packages\\sklearn\\ensemble\\_weight_boosting.py:519: FutureWarning: The SAMME.R algorithm (the default) is deprecated and will be removed in 1.6. Use the SAMME algorithm to circumvent this warning.\n",
            "  warnings.warn(\n"
          ]
        },
        {
          "name": "stdout",
          "output_type": "stream",
          "text": [
            "ROC AUC Testing Accuracy: 0.7177563337716968\n",
            "ROC AUC Training Accuracy: 0.7215308974053338\n",
            "ROC AUC Testing Accuracy with Probabilities: 0.8541338256939062\n",
            "ROC AUC Training Accuracy with Probabilities: 0.8618914865466631\n",
            "Testing Accuracy: 0.8046407185628742\n",
            "Training Accuracy: 0.8103319191415024\n",
            "Number of Estimators: 200\n"
          ]
        },
        {
          "name": "stderr",
          "output_type": "stream",
          "text": [
            "d:\\Caltech\\CS 155\\project1\\.conda\\lib\\site-packages\\sklearn\\ensemble\\_weight_boosting.py:519: FutureWarning: The SAMME.R algorithm (the default) is deprecated and will be removed in 1.6. Use the SAMME algorithm to circumvent this warning.\n",
            "  warnings.warn(\n"
          ]
        },
        {
          "name": "stdout",
          "output_type": "stream",
          "text": [
            "ROC AUC Testing Accuracy: 0.7167431625457596\n",
            "ROC AUC Training Accuracy: 0.7320359252578826\n",
            "ROC AUC Testing Accuracy with Probabilities: 0.8501290414355098\n",
            "ROC AUC Training Accuracy with Probabilities: 0.8690422565801605\n",
            "Testing Accuracy: 0.8031437125748503\n",
            "Training Accuracy: 0.8145744946343898\n"
          ]
        }
      ],
      "source": [
        "# Test with different n_estimators\n",
        "num_estimators = [10, 25, 30, 35, 40, 45, 50, 100, 200]\n",
        "for num in num_estimators:\n",
        "    print(\"Number of Estimators: \" + str(num))\n",
        "    base_estimator = DecisionTreeClassifier(criterion=\"entropy\", max_depth=1)\n",
        "    clf = AdaBoostClassifier(estimator=base_estimator, n_estimators=num, random_state=2)\n",
        "    clf.fit(X_train, y_train)\n",
        "    y_test_preds = clf.predict(X_test)\n",
        "    y_train_preds = clf.predict(X_train)\n",
        "    y_test_prob_preds = clf.predict_proba(X_test)\n",
        "    y_train_prob_preds = clf.predict_proba(X_train)\n",
        "\n",
        "    roc_auc_testing_accuracy = roc_auc_score(y_test, y_test_preds)\n",
        "    roc_auc_training_accuracy = roc_auc_score(y_train, y_train_preds)\n",
        "    prob_roc_auc_testing_accuracy = roc_auc_score(y_test, y_test_prob_preds[:, 1])\n",
        "    prob_roc_auc_training_accuracy = roc_auc_score(y_train, y_train_prob_preds[:, 1])\n",
        "    testing_accuracy = accuracy_score(y_test, y_test_preds)\n",
        "    training_accuracy = accuracy_score(y_train, y_train_preds)\n",
        "\n",
        "    print(f'ROC AUC Testing Accuracy: {roc_auc_testing_accuracy}')\n",
        "    print(f'ROC AUC Training Accuracy: {roc_auc_training_accuracy}')\n",
        "    print(f'ROC AUC Testing Accuracy with Probabilities: {prob_roc_auc_testing_accuracy}')\n",
        "    print(f'ROC AUC Training Accuracy with Probabilities: {prob_roc_auc_training_accuracy}')\n",
        "    print(f'Testing Accuracy: {testing_accuracy}')\n",
        "    print(f'Training Accuracy: {training_accuracy}')"
      ]
    },
    {
      "cell_type": "code",
      "execution_count": 13,
      "metadata": {
        "id": "ylU7X4S2X0Nf"
      },
      "outputs": [
        {
          "name": "stderr",
          "output_type": "stream",
          "text": [
            "d:\\Caltech\\CS 155\\project1\\.conda\\lib\\site-packages\\sklearn\\ensemble\\_weight_boosting.py:519: FutureWarning: The SAMME.R algorithm (the default) is deprecated and will be removed in 1.6. Use the SAMME algorithm to circumvent this warning.\n",
            "  warnings.warn(\n"
          ]
        }
      ],
      "source": [
        "# Generate submission using test.csv\n",
        "\n",
        "raw_test = numerize_csv_test('test.csv', expand_classes=True)\n",
        "#X_test = combine_related_columns_test(raw_test)\n",
        "\n",
        "base_estimator = DecisionTreeClassifier(criterion=\"entropy\", max_depth=1)\n",
        "clf = AdaBoostClassifier(estimator=base_estimator, n_estimators=30, random_state=0)\n",
        "clf.fit(X, Y)\n",
        "y_test_prob_preds = clf.predict_proba(raw_test)[:, 1]\n",
        "\n",
        "gluon = pd.read_csv('gluon_submission.csv')\n",
        "gluon_preds = gluon['TARGET'].values\n",
        "write_submission((y_test_prob_preds + gluon_preds)/2)"
      ]
    },
    {
      "cell_type": "code",
      "execution_count": null,
      "metadata": {
        "id": "BOH8v4XJX0Nf"
      },
      "outputs": [],
      "source": []
    }
  ],
  "metadata": {
    "colab": {
      "provenance": []
    },
    "kernelspec": {
      "display_name": "Python 3",
      "language": "python",
      "name": "python3"
    },
    "language_info": {
      "codemirror_mode": {
        "name": "ipython",
        "version": 3
      },
      "file_extension": ".py",
      "mimetype": "text/x-python",
      "name": "python",
      "nbconvert_exporter": "python",
      "pygments_lexer": "ipython3",
      "version": "3.10.13"
    }
  },
  "nbformat": 4,
  "nbformat_minor": 0
}
