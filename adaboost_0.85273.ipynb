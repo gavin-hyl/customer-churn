{
  "cells": [
    {
      "cell_type": "code",
      "execution_count": null,
      "metadata": {
        "id": "KbyIb4APX0Nc"
      },
      "outputs": [],
      "source": [
        "import pandas as pd\n",
        "from utils import *"
      ]
    },
    {
      "cell_type": "code",
      "execution_count": null,
      "metadata": {
        "id": "kRuzctV2X0Nd"
      },
      "outputs": [],
      "source": [
        "raw = numerize_csv('train.csv', expand_classes=True)\n",
        "# combined=combine_related_columns(raw)\n",
        "\n",
        "# Data\n",
        "from sklearn.model_selection import train_test_split\n",
        "from sklearn.tree import DecisionTreeClassifier\n",
        "from sklearn.ensemble import AdaBoostClassifier\n",
        "from sklearn.metrics import roc_auc_score\n",
        "from sklearn.metrics import accuracy_score\n",
        "\n",
        "#Y = # combined['Discontinued']\n",
        "Y = raw['Discontinued']\n",
        "X = raw.drop('Discontinued', axis=1)\n",
        "X_train, X_test, y_train, y_test = train_test_split(X, Y, random_state=0, train_size = .75)"
      ]
    },
    {
      "cell_type": "code",
      "execution_count": null,
      "metadata": {
        "colab": {
          "base_uri": "https://localhost:8080/"
        },
        "id": "aHuI7amQX0Ne",
        "outputId": "a01263dc-408d-4105-ffe3-d418dd200c95"
      },
      "outputs": [],
      "source": [
        "# Test with different max_depths\n",
        "max_depths = [1, 2, 3, 4, 5]\n",
        "for depth in max_depths:\n",
        "    print(\"Depth: \" + str(depth))\n",
        "    base_estimator = DecisionTreeClassifier(criterion=\"gini\", max_depth=depth)\n",
        "    clf = AdaBoostClassifier(estimator=base_estimator, n_estimators=100, random_state=0)\n",
        "    clf.fit(X_train, y_train)\n",
        "    y_test_preds = clf.predict(X_test)\n",
        "    y_train_preds = clf.predict(X_train)\n",
        "    y_test_prob_preds = clf.predict_proba(X_test)\n",
        "    y_train_prob_preds = clf.predict_proba(X_train)\n",
        "\n",
        "    roc_auc_testing_accuracy = roc_auc_score(y_test, y_test_preds)\n",
        "    roc_auc_training_accuracy = roc_auc_score(y_train, y_train_preds)\n",
        "    prob_roc_auc_testing_accuracy = roc_auc_score(y_test, y_test_prob_preds[:, 1])\n",
        "    prob_roc_auc_training_accuracy = roc_auc_score(y_train, y_train_prob_preds[:, 1])\n",
        "    testing_accuracy = accuracy_score(y_test, y_test_preds)\n",
        "    training_accuracy = accuracy_score(y_train, y_train_preds)\n",
        "\n",
        "    print(f'ROC AUC Testing Accuracy: {roc_auc_testing_accuracy}')\n",
        "    print(f'ROC AUC Training Accuracy: {roc_auc_training_accuracy}')\n",
        "    print(f'ROC AUC Testing Accuracy with Probabilities: {prob_roc_auc_testing_accuracy}')\n",
        "    print(f'ROC AUC Training Accuracy with Probabilities: {prob_roc_auc_training_accuracy}')\n",
        "    print(f'Testing Accuracy: {testing_accuracy}')\n",
        "    print(f'Training Accuracy: {training_accuracy}')"
      ]
    },
    {
      "cell_type": "code",
      "execution_count": null,
      "metadata": {
        "colab": {
          "base_uri": "https://localhost:8080/"
        },
        "id": "Y89xUBhRX0Nf",
        "outputId": "33f0e918-406e-4262-fa48-9ce35fc481cf"
      },
      "outputs": [],
      "source": [
        "# Test with different n_estimators\n",
        "num_estimators = [10, 25, 30, 35, 40, 45, 50, 100, 200]\n",
        "for num in num_estimators:\n",
        "    print(\"Number of Estimators: \" + str(num))\n",
        "    base_estimator = DecisionTreeClassifier(criterion=\"entropy\", max_depth=1)\n",
        "    clf = AdaBoostClassifier(estimator=base_estimator, n_estimators=num, random_state=2)\n",
        "    clf.fit(X_train, y_train)\n",
        "    y_test_preds = clf.predict(X_test)\n",
        "    y_train_preds = clf.predict(X_train)\n",
        "    y_test_prob_preds = clf.predict_proba(X_test)\n",
        "    y_train_prob_preds = clf.predict_proba(X_train)\n",
        "\n",
        "    roc_auc_testing_accuracy = roc_auc_score(y_test, y_test_preds)\n",
        "    roc_auc_training_accuracy = roc_auc_score(y_train, y_train_preds)\n",
        "    prob_roc_auc_testing_accuracy = roc_auc_score(y_test, y_test_prob_preds[:, 1])\n",
        "    prob_roc_auc_training_accuracy = roc_auc_score(y_train, y_train_prob_preds[:, 1])\n",
        "    testing_accuracy = accuracy_score(y_test, y_test_preds)\n",
        "    training_accuracy = accuracy_score(y_train, y_train_preds)\n",
        "\n",
        "    print(f'ROC AUC Testing Accuracy: {roc_auc_testing_accuracy}')\n",
        "    print(f'ROC AUC Training Accuracy: {roc_auc_training_accuracy}')\n",
        "    print(f'ROC AUC Testing Accuracy with Probabilities: {prob_roc_auc_testing_accuracy}')\n",
        "    print(f'ROC AUC Training Accuracy with Probabilities: {prob_roc_auc_training_accuracy}')\n",
        "    print(f'Testing Accuracy: {testing_accuracy}')\n",
        "    print(f'Training Accuracy: {training_accuracy}')"
      ]
    },
    {
      "cell_type": "code",
      "execution_count": null,
      "metadata": {
        "id": "ylU7X4S2X0Nf"
      },
      "outputs": [],
      "source": [
        "# # Generate submission using test.csv\n",
        "\n",
        "# raw_test = numerize_csv_test('test.csv', expand_classes=True)\n",
        "# #X_test = combine_related_columns_test(raw_test)\n",
        "\n",
        "# base_estimator = DecisionTreeClassifier(criterion=\"entropy\", max_depth=1)\n",
        "# clf = AdaBoostClassifier(estimator=base_estimator, n_estimators=50, random_state=0)\n",
        "# clf.fit(X, Y)\n",
        "# y_test_prob_preds = clf.predict_proba(raw_test)[:, 1]\n",
        "# write_submission(y_test_prob_preds, file='ada_submission.csv')"
      ]
    },
    {
      "cell_type": "code",
      "execution_count": null,
      "metadata": {
        "id": "BOH8v4XJX0Nf"
      },
      "outputs": [],
      "source": []
    },
    {
      "cell_type": "code",
      "execution_count": null,
      "metadata": {},
      "outputs": [],
      "source": []
    }
  ],
  "metadata": {
    "colab": {
      "provenance": []
    },
    "kernelspec": {
      "display_name": "Python 3",
      "language": "python",
      "name": "python3"
    },
    "language_info": {
      "codemirror_mode": {
        "name": "ipython",
        "version": 3
      },
      "file_extension": ".py",
      "mimetype": "text/x-python",
      "name": "python",
      "nbconvert_exporter": "python",
      "pygments_lexer": "ipython3",
      "version": "3.10.13"
    }
  },
  "nbformat": 4,
  "nbformat_minor": 0
}
